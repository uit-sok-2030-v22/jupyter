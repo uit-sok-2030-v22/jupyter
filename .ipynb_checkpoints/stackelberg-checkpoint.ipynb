{
 "cells": [
  {
   "cell_type": "markdown",
   "id": "e09562f3-4102-4a40-b6ea-7ddacedf4533",
   "metadata": {},
   "source": [
    "# Utledning av Stackelberg med python og sympy"
   ]
  },
  {
   "cell_type": "markdown",
   "id": "201f81da-129a-4c4e-9cc2-342abf03d727",
   "metadata": {},
   "source": [
    "Laster nødvendige pakker:"
   ]
  },
  {
   "cell_type": "code",
   "execution_count": 1,
   "id": "ce81742d-963f-4c3b-9c82-60b44b06e716",
   "metadata": {},
   "outputs": [],
   "source": [
    "from sympy import *\n",
    "from matplotlib import pyplot as plt\n",
    "import numpy as np"
   ]
  },
  {
   "cell_type": "code",
   "execution_count": 42,
   "id": "6ae4bc48-f832-48fd-a432-2a01e1207662",
   "metadata": {},
   "outputs": [],
   "source": [
    "Q1, Q2,mc1,mc2, a, b, pi=symbols('Q1 Q2 mc1 mc2 a b pi')\n",
    "\n",
    "def P_demand(Q,a,b):\n",
    "    return a-b*Q\n",
    "\n",
    "def profit(Q1,Q2,mc,a,b):\n",
    "    return (P_demand(Q1+Q2,a,b)-mc)*Q1"
   ]
  },
  {
   "cell_type": "markdown",
   "id": "58a3ec84-e3b1-4330-8ef8-cd9b3c54b0c0",
   "metadata": {},
   "source": [
    "### Marginalinntekt\n",
    "\n",
    "Legg merke til at vi her kun utleder bedrift 2 sin optimale reaksjon. Dette er bedriften som følger etter, og bedrift 1 kan ta hensyn til denne i sin optimalisering."
   ]
  },
  {
   "cell_type": "code",
   "execution_count": 23,
   "id": "8ba7a182-9abc-4a4c-b573-0ff6cd1237c4",
   "metadata": {},
   "outputs": [
    {
     "data": {
      "text/latex": [
       "$\\displaystyle - Q_{2} b + a - b \\left(Q_{1} + Q_{2}\\right) - mc_{2}$"
      ],
      "text/plain": [
       "-Q2*b + a - b*(Q1 + Q2) - mc2"
      ]
     },
     "execution_count": 23,
     "metadata": {},
     "output_type": "execute_result"
    }
   ],
   "source": [
    "d_profit2_Q=diff(profit(Q2,Q1,mc2,a,b),Q2)\n",
    "d_profit2_Q"
   ]
  },
  {
   "cell_type": "markdown",
   "id": "fe893be2-cd68-4188-aac0-f806f9690e44",
   "metadata": {},
   "source": [
    "Setter vi denne lik null får vi førsteordensbetingelsen. Løser for det:"
   ]
  },
  {
   "cell_type": "code",
   "execution_count": 27,
   "id": "ade6a4f5-8535-4d26-924d-a2ce33f2ab15",
   "metadata": {
    "tags": []
   },
   "outputs": [
    {
     "data": {
      "text/latex": [
       "$\\displaystyle \\frac{- Q_{1} b + a - mc_{2}}{2 b}$"
      ],
      "text/plain": [
       "(-Q1*b + a - mc2)/(2*b)"
      ]
     },
     "execution_count": 27,
     "metadata": {},
     "output_type": "execute_result"
    }
   ],
   "source": [
    "Q2_sol1=solve(d_profit2_Q,Q2)[0]\n",
    "Q2_sol1"
   ]
  },
  {
   "cell_type": "markdown",
   "id": "4e57fffb-4f1b-446a-8751-4091b86c8a74",
   "metadata": {},
   "source": [
    "Dette er nå kvantumet som 2 vil velge. Vi kan nå sette dette inn i profittfunksjonen til 1, og derivere:"
   ]
  },
  {
   "cell_type": "code",
   "execution_count": 44,
   "id": "4e0f36cc-af86-411c-bc05-0392d1f5c238",
   "metadata": {
    "tags": []
   },
   "outputs": [
    {
     "data": {
      "text/latex": [
       "$\\displaystyle - \\frac{Q_{1} b}{2} + a - b \\left(Q_{1} + \\frac{- Q_{1} b + a - mc_{2}}{2 b}\\right) - mc_{1}$"
      ],
      "text/plain": [
       "-Q1*b/2 + a - b*(Q1 + (-Q1*b + a - mc2)/(2*b)) - mc1"
      ]
     },
     "execution_count": 44,
     "metadata": {},
     "output_type": "execute_result"
    }
   ],
   "source": [
    "d_profit1_Q=diff(profit(Q1,sol2,mc1,a,b),Q1)\n",
    "d_profit1_Q"
   ]
  },
  {
   "cell_type": "markdown",
   "id": "4949590f-ef47-47fc-b770-8c2ed111fef6",
   "metadata": {},
   "source": [
    "Løsningsfunksjon:"
   ]
  },
  {
   "cell_type": "code",
   "execution_count": 45,
   "id": "136c87e6-b76f-40ab-bdce-4ef86ab130ab",
   "metadata": {},
   "outputs": [
    {
     "data": {
      "text/latex": [
       "$\\displaystyle \\frac{a - 2 mc_{1} + mc_{2}}{2 b}$"
      ],
      "text/plain": [
       "(a - 2*mc1 + mc2)/(2*b)"
      ]
     },
     "execution_count": 45,
     "metadata": {},
     "output_type": "execute_result"
    }
   ],
   "source": [
    "Q1_sol=solve(d_profit1_Q,Q1)[0]\n",
    "Q1_sol"
   ]
  },
  {
   "cell_type": "markdown",
   "id": "fac963c3-aed1-4ee7-b13c-dbbb619747d6",
   "metadata": {},
   "source": [
    "Setter inn i tilbudet til 2:"
   ]
  },
  {
   "cell_type": "code",
   "execution_count": 46,
   "id": "8f4dbcff-cb79-4199-91b9-758960354bef",
   "metadata": {},
   "outputs": [
    {
     "data": {
      "text/latex": [
       "$\\displaystyle \\frac{\\frac{a}{2} + mc_{1} - \\frac{3 mc_{2}}{2}}{2 b}$"
      ],
      "text/plain": [
       "(a/2 + mc1 - 3*mc2/2)/(2*b)"
      ]
     },
     "execution_count": 46,
     "metadata": {},
     "output_type": "execute_result"
    }
   ],
   "source": [
    "Q2_sol2=Q2_sol1.subs({Q1:Q1_sol})\n",
    "Q2_sol2"
   ]
  },
  {
   "cell_type": "code",
   "execution_count": 47,
   "id": "6eddc67f-a574-488f-af3f-85a7b3a7e2d6",
   "metadata": {
    "tags": []
   },
   "outputs": [],
   "source": [
    "stackelberg=lambdify(\n",
    "    (a,b,mc1,mc2), \n",
    "    (Q1_sol,Q2_sol2)\n",
    ")"
   ]
  },
  {
   "cell_type": "markdown",
   "id": "79b0ac07-ecd2-41ed-ad84-782df322ba06",
   "metadata": {
    "tags": []
   },
   "source": [
    "Responskurver:"
   ]
  },
  {
   "cell_type": "code",
   "execution_count": 38,
   "id": "ae4cd12a-df4b-4f76-823c-8f87242c3615",
   "metadata": {},
   "outputs": [
    {
     "data": {
      "text/latex": [
       "$\\displaystyle \\frac{- 2 Q_{2} b + a - mc_{2}}{b}$"
      ],
      "text/plain": [
       "(-2*Q2*b + a - mc2)/b"
      ]
     },
     "execution_count": 38,
     "metadata": {},
     "output_type": "execute_result"
    }
   ],
   "source": [
    "solve(d_profit2_Q,Q1)[0]"
   ]
  },
  {
   "cell_type": "code",
   "execution_count": 59,
   "id": "6958dd08-2fdf-4bfd-adb0-29a03bcdb2de",
   "metadata": {},
   "outputs": [
    {
     "data": {
      "text/latex": [
       "$\\displaystyle \\frac{- 2 Q_{2} b + a - mc_{2}}{b}$"
      ],
      "text/plain": [
       "(-2*Q2*b + a - mc2)/b"
      ]
     },
     "execution_count": 59,
     "metadata": {},
     "output_type": "execute_result"
    }
   ],
   "source": [
    "\n",
    "R1=solve(profit(Q1,Q2,mc1,a,b)-pi,Q1)\n",
    "R2=solve(d_profit2_Q,Q1)\n",
    "R2[0]"
   ]
  },
  {
   "cell_type": "code",
   "execution_count": 80,
   "id": "0c786d9d-1ef4-4278-ba8b-f21df2e2f710",
   "metadata": {},
   "outputs": [
    {
     "data": {
      "text/latex": [
       "$\\displaystyle \\frac{- Q_{2} b + a - mc_{1} + \\sqrt{Q_{2}^{2} b^{2} - 2 Q_{2} a b + 2 Q_{2} b mc_{1} + a^{2} - 2 a mc_{1} - 4 b \\pi + mc_{1}^{2}}}{2 b}$"
      ],
      "text/plain": [
       "(-Q2*b + a - mc1 + sqrt(Q2**2*b**2 - 2*Q2*a*b + 2*Q2*b*mc1 + a**2 - 2*a*mc1 - 4*b*pi + mc1**2))/(2*b)"
      ]
     },
     "execution_count": 80,
     "metadata": {},
     "output_type": "execute_result"
    }
   ],
   "source": []
  },
  {
   "cell_type": "code",
   "execution_count": 107,
   "id": "c8402033-dd4f-458f-affd-b1e92c302921",
   "metadata": {},
   "outputs": [
    {
     "data": {
      "text/plain": [
       "[(-Q2*b + a - mc1 - sqrt(Q2**2*b**2 - 2*Q2*a*b + 2*Q2*b*mc1 + a**2 - 2*a*mc1 - 4*b*pi + mc1**2))/(2*b),\n",
       " (-Q2*b + a - mc1 + sqrt(Q2**2*b**2 - 2*Q2*a*b + 2*Q2*b*mc1 + a**2 - 2*a*mc1 - 4*b*pi + mc1**2))/(2*b)]"
      ]
     },
     "execution_count": 107,
     "metadata": {},
     "output_type": "execute_result"
    }
   ],
   "source": [
    "isoquant1=solve(profit(Q1,Q2,mc1,a,b)-pi,Q1)\n",
    "\n",
    "isoquant1\n"
   ]
  },
  {
   "cell_type": "code",
   "execution_count": 109,
   "id": "7f305bcc-45d9-4ce7-99ea-157fefa75e68",
   "metadata": {},
   "outputs": [
    {
     "data": {
      "text/plain": [
       "[(-Q2*b + a - mc1 - sqrt(Q2**2*b**2 - 2*Q2*a*b + 2*Q2*b*mc1 + a**2 - 2*a*mc1 - 4*b*pi + mc1**2))/(2*b),\n",
       " (-Q2*b + a - mc1 + sqrt(Q2**2*b**2 - 2*Q2*a*b + 2*Q2*b*mc1 + a**2 - 2*a*mc1 - 4*b*pi + mc1**2))/(2*b)]"
      ]
     },
     "metadata": {},
     "output_type": "display_data"
    },
    {
     "data": {
      "text/latex": [
       "$\\displaystyle \\frac{- 2 Q_{2} b + a - mc_{1}}{b}$"
      ],
      "text/plain": [
       "(-2*Q2*b + a - mc1)/b"
      ]
     },
     "metadata": {},
     "output_type": "display_data"
    }
   ],
   "source": [
    "\n",
    "isoquant1_expr=solve(profit(Q1,Q2,mc1,a,b)-pi,Q1)\n",
    "R2=solve(d_profit2_Q,Q1)\n",
    "\n",
    "\n",
    "def isoquant1(Q2,a,b,mc1,pi):\n",
    "    try:\n",
    "        lmda=lambdify(\n",
    "            (Q2,a,b,mc1,pi), \n",
    "            isoquant1_expr[0]\n",
    "            )\n",
    "        return lmda(Q2,a,b,mc1,pi)\n",
    "    except:\n",
    "        lmda=lambdify(\n",
    "            (Q2,a,b,mc1,pi), \n",
    "            isoquant1_expr[0]\n",
    "            )\n",
    "        return lmda(Q2,a,b,mc1,pi)\n",
    "\n",
    "\n",
    "R2=lambdify(\n",
    "    (Q2,a,b,mc2), \n",
    "    R2[0]\n",
    ")\n",
    "\n",
    "display(isoquant1_expr)\n",
    "display(R2(Q2,a,b,mc1))"
   ]
  },
  {
   "cell_type": "code",
   "execution_count": 110,
   "id": "0aac67a7-e1c8-4110-8d9d-d6f64cddbf79",
   "metadata": {},
   "outputs": [
    {
     "data": {
      "text/latex": [
       "$\\displaystyle \\frac{- 20 b - mc_{2} - \\sqrt{400 b^{2} + 40 b mc_{2} - 44200 b + mc_{2}^{2} - 2200 mc_{2} + 1210000} + 1100}{2 b}$"
      ],
      "text/plain": [
       "(-20*b - mc2 - sqrt(400*b**2 + 40*b*mc2 - 44200*b + mc2**2 - 2200*mc2 + 1210000) + 1100)/(2*b)"
      ]
     },
     "execution_count": 110,
     "metadata": {},
     "output_type": "execute_result"
    }
   ],
   "source": [
    "isoquant1(20,1100,5,20,50)"
   ]
  },
  {
   "cell_type": "markdown",
   "id": "6507e602-1b3b-4d4d-98a3-21994614efec",
   "metadata": {},
   "source": [
    "Plotter"
   ]
  },
  {
   "cell_type": "markdown",
   "id": "9ca3c12e-6b99-48c4-9b7b-30ffda35a7b5",
   "metadata": {},
   "source": [
    "Definerer parametrene i modellen"
   ]
  },
  {
   "cell_type": "code",
   "execution_count": 97,
   "id": "d4e4d2be-491a-418f-bb0e-016aad34afc3",
   "metadata": {},
   "outputs": [],
   "source": [
    "q = np.linspace(0,30,100)\n",
    "a_value=40\n",
    "b_value=1\n",
    "mc1_value=10\n",
    "mc2_value=5"
   ]
  },
  {
   "cell_type": "markdown",
   "id": "c2600a53-20c1-43f1-b244-9ecbedee331b",
   "metadata": {},
   "source": [
    "Plotter:"
   ]
  },
  {
   "cell_type": "code",
   "execution_count": 105,
   "id": "44931035-cada-4f6d-adda-643e08935da9",
   "metadata": {
    "tags": []
   },
   "outputs": [
    {
     "name": "stdout",
     "output_type": "stream",
     "text": [
      "Løsningen er at \n",
      "bedrift 1 produserer 12.5 og tjener 78.125\n",
      "bedrift 2 produserer 11.25 og tjener 126.5625\n",
      "prisen blir 16.25\n",
      "\n",
      "\n",
      "\n"
     ]
    },
    {
     "data": {
      "image/png": "[encoded data removed]",
      "text/plain": [
       "<Figure size 432x288 with 1 Axes>"
      ]
     },
     "metadata": {
      "needs_background": "light"
     },
     "output_type": "display_data"
    }
   ],
   "source": [
    "\n",
    "\n",
    "fig,ax=plt.subplots()\n",
    "ax.set_ylabel('Kvantum bedrift 1 Q1')\n",
    "ax.set_xlabel('Kvantum bedrift 2 Q2')\n",
    "\n",
    "\n",
    "#drawing respons curves\n",
    "pi_val=50\n",
    "ax.plot(q,\n",
    "        isoquant1(q,a_value,b_value,mc1_value,pi_val),\n",
    "        label=f'Isokvant profitt {pi_val}'\n",
    "       )\n",
    "\n",
    "pi_val=78.125\n",
    "ax.plot(q,\n",
    "        isoquant1(q,a_value,b_value,mc1_value,pi_val),\n",
    "        label=f'Isokvant profitt {pi_val}'\n",
    "       )\n",
    "\n",
    "ax.plot(q,\n",
    "        R2(q,a_value,b_value,mc2_value),\n",
    "        label='Responskurve bedrift 2'\n",
    "       )\n",
    "\n",
    "#setting range for y-axis. \n",
    "plt.ylim((0,30))\n",
    "\n",
    "#adding legend:\n",
    "ax.legend(loc='upper right',frameon=False)\n",
    "\n",
    "Q1sol, Q2sol=stackelberg(a_value,b_value,mc1_value,mc2_value)\n",
    "\n",
    "print(f\"\"\"Løsningen er at \n",
    "bedrift 1 produserer {Q1sol} og tjener {profit(Q1sol,Q2sol,mc1_value,a_value,b_value)}\n",
    "bedrift 2 produserer {Q2sol} og tjener {profit(Q2sol,Q1sol,mc2_value,a_value,b_value)}\n",
    "prisen blir {P_demand(Q1sol+Q2sol,a_value,b_value)}\n",
    "\n",
    "\n",
    "\"\"\")"
   ]
  },
  {
   "cell_type": "code",
   "execution_count": 102,
   "id": "dfe6cfec-93ff-4138-8bef-17fb15f6eede",
   "metadata": {},
   "outputs": [
    {
     "name": "stdout",
     "output_type": "stream",
     "text": [
      "Løsningen er at \n",
      "bedrift 1 produserer 12.5 og tjener 78.125\n",
      "bedrift 2 produserer 11.25 og tjener 126.5625\n",
      "prisen blir 16.25\n",
      "\n"
     ]
    }
   ],
   "source": [
    "Q1sol, Q2sol=stackelberg(a_value,b_value,mc1_value,mc2_value) \n",
    "print(f\"\"\"Løsningen er at \n",
    "bedrift 1 produserer {Q1sol} og tjener {profit(Q1sol,Q2sol,mc1_value,a_value,b_value)}\n",
    "bedrift 2 produserer {Q2sol} og tjener {profit(Q2sol,Q1sol,mc2_value,a_value,b_value)}\n",
    "prisen blir {P_demand(Q1sol+Q2sol,a_value,b_value)}\n",
    "\"\"\")"
   ]
  },
  {
   "cell_type": "code",
   "execution_count": null,
   "id": "f08b9c65-0913-44ae-8ec3-4bf11abf075c",
   "metadata": {},
   "outputs": [],
   "source": []
  }
 ],
 "metadata": {
  "kernelspec": {
   "display_name": "Python 3 (ipykernel)",
   "language": "python",
   "name": "python3"
  },
  "language_info": {
   "codemirror_mode": {
    "name": "ipython",
    "version": 3
   },
   "file_extension": ".py",
   "mimetype": "text/x-python",
   "name": "python",
   "nbconvert_exporter": "python",
   "pygments_lexer": "ipython3",
   "version": "3.8.10"
  }
 },
 "nbformat": 4,
 "nbformat_minor": 5
}
