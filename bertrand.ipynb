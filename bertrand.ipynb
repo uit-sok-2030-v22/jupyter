{
 "cells": [
  {
   "cell_type": "markdown",
   "id": "e09562f3-4102-4a40-b6ea-7ddacedf4533",
   "metadata": {},
   "source": [
    "# Utledning av Bertrand med python og sympy"
   ]
  },
  {
   "cell_type": "markdown",
   "id": "201f81da-129a-4c4e-9cc2-342abf03d727",
   "metadata": {},
   "source": [
    "Laster nødvendige pakker:"
   ]
  },
  {
   "cell_type": "code",
   "execution_count": 1,
   "id": "ce81742d-963f-4c3b-9c82-60b44b06e716",
   "metadata": {},
   "outputs": [],
   "source": [
    "from sympy import *\n",
    "from matplotlib import pyplot as plt\n",
    "import numpy as np"
   ]
  },
  {
   "cell_type": "code",
   "execution_count": 2,
   "id": "6ae4bc48-f832-48fd-a432-2a01e1207662",
   "metadata": {},
   "outputs": [
    {
     "data": {
      "text/latex": [
       "$\\displaystyle - P_{1} b_{11} + P_{2} b_{12} + a_{1}$"
      ],
      "text/plain": [
       "-P1*b_11 + P2*b_12 + a1"
      ]
     },
     "metadata": {},
     "output_type": "display_data"
    },
    {
     "data": {
      "text/latex": [
       "$\\displaystyle P_{1} \\left(- P_{1} b_{11} + P_{2} b_{12} + a_{1}\\right)$"
      ],
      "text/plain": [
       "P1*(-P1*b_11 + P2*b_12 + a1)"
      ]
     },
     "metadata": {},
     "output_type": "display_data"
    }
   ],
   "source": [
    "P1, P2, a1, a2, b_11, b_12, b_21, b_22=symbols('P1 P2 a1 a2 b_11 b_12 b_21 b_22',positive=True)\n",
    "\n",
    "def Q_demand(P_self, P_other, a, b_self, b_other):\n",
    "    return a-b_self*P_self+b_other*P_other\n",
    "\n",
    "def profit(P_self, P_other, a, b_self, b_other):\n",
    "    Q=Q_demand(P_self, P_other, a, b_self, b_other)\n",
    "    return Q*P_self\n",
    "\n",
    "display(Q_demand(P1, P2, a1, b_11, b_12))\n",
    "display(  profit(P1, P2, a1, b_11, b_12))"
   ]
  },
  {
   "cell_type": "markdown",
   "id": "58a3ec84-e3b1-4330-8ef8-cd9b3c54b0c0",
   "metadata": {},
   "source": [
    "Marginalinntekt:"
   ]
  },
  {
   "cell_type": "code",
   "execution_count": 3,
   "id": "8ba7a182-9abc-4a4c-b573-0ff6cd1237c4",
   "metadata": {},
   "outputs": [
    {
     "data": {
      "text/latex": [
       "$\\displaystyle - 2 P_{1} b_{11} + P_{2} b_{12} + a_{1}$"
      ],
      "text/plain": [
       "-2*P1*b_11 + P2*b_12 + a1"
      ]
     },
     "metadata": {},
     "output_type": "display_data"
    },
    {
     "data": {
      "text/latex": [
       "$\\displaystyle P_{1} b_{22} - 2 P_{2} b_{21} + a_{2}$"
      ],
      "text/plain": [
       "P1*b_22 - 2*P2*b_21 + a2"
      ]
     },
     "metadata": {},
     "output_type": "display_data"
    }
   ],
   "source": [
    "d_profit_P1=diff(profit(P1,P2,a1, b_11, b_12),P1)\n",
    "d_profit_P2=diff(profit(P2,P1,a2, b_21, b_22),P2)\n",
    "\n",
    "display(d_profit_P1)\n",
    "display(d_profit_P2)"
   ]
  },
  {
   "cell_type": "markdown",
   "id": "fe893be2-cd68-4188-aac0-f806f9690e44",
   "metadata": {},
   "source": [
    "Førsteordensbetingelse:"
   ]
  },
  {
   "cell_type": "code",
   "execution_count": 4,
   "id": "ade6a4f5-8535-4d26-924d-a2ce33f2ab15",
   "metadata": {
    "tags": []
   },
   "outputs": [
    {
     "data": {
      "text/latex": [
       "$\\displaystyle - 2 P_{1} b_{11} + P_{2} b_{12} + a_{1} = 0$"
      ],
      "text/plain": [
       "Eq(-2*P1*b_11 + P2*b_12 + a1, 0)"
      ]
     },
     "metadata": {},
     "output_type": "display_data"
    },
    {
     "data": {
      "text/latex": [
       "$\\displaystyle P_{1} b_{22} - 2 P_{2} b_{21} + a_{2} = 0$"
      ],
      "text/plain": [
       "Eq(P1*b_22 - 2*P2*b_21 + a2, 0)"
      ]
     },
     "metadata": {},
     "output_type": "display_data"
    }
   ],
   "source": [
    "foc1=Eq(d_profit_P1,0)\n",
    "foc2=Eq(d_profit_P2,0)\n",
    "\n",
    "display(foc1)\n",
    "display(foc2)"
   ]
  },
  {
   "cell_type": "markdown",
   "id": "4e57fffb-4f1b-446a-8751-4091b86c8a74",
   "metadata": {},
   "source": [
    "Løser:"
   ]
  },
  {
   "cell_type": "code",
   "execution_count": 5,
   "id": "4e0f36cc-af86-411c-bc05-0392d1f5c238",
   "metadata": {
    "tags": []
   },
   "outputs": [
    {
     "data": {
      "text/latex": [
       "$\\displaystyle \\frac{2 a_{1} b_{21} + a_{2} b_{12}}{4 b_{11} b_{21} - b_{12} b_{22}}$"
      ],
      "text/plain": [
       "(2*a1*b_21 + a2*b_12)/(4*b_11*b_21 - b_12*b_22)"
      ]
     },
     "metadata": {},
     "output_type": "display_data"
    },
    {
     "data": {
      "text/latex": [
       "$\\displaystyle \\frac{a_{1} b_{22} + 2 a_{2} b_{11}}{4 b_{11} b_{21} - b_{12} b_{22}}$"
      ],
      "text/plain": [
       "(a1*b_22 + 2*a2*b_11)/(4*b_11*b_21 - b_12*b_22)"
      ]
     },
     "metadata": {},
     "output_type": "display_data"
    }
   ],
   "source": [
    "sol=solve([foc1,foc2],[P1,P2])\n",
    "\n",
    "display(sol[P1])\n",
    "display(sol[P2])"
   ]
  },
  {
   "cell_type": "markdown",
   "id": "4949590f-ef47-47fc-b770-8c2ed111fef6",
   "metadata": {},
   "source": [
    "Løsningsfunksjon:"
   ]
  },
  {
   "cell_type": "code",
   "execution_count": 6,
   "id": "6eddc67f-a574-488f-af3f-85a7b3a7e2d6",
   "metadata": {
    "tags": []
   },
   "outputs": [],
   "source": [
    "bertrand=lambdify(\n",
    "    (a1, a2, b_11, b_12, b_21, b_22), \n",
    "    (sol[P1],sol[P2])\n",
    ")"
   ]
  },
  {
   "cell_type": "markdown",
   "id": "79b0ac07-ecd2-41ed-ad84-782df322ba06",
   "metadata": {
    "tags": []
   },
   "source": [
    "Responskurver:"
   ]
  },
  {
   "cell_type": "code",
   "execution_count": 7,
   "id": "7f305bcc-45d9-4ce7-99ea-157fefa75e68",
   "metadata": {},
   "outputs": [
    {
     "data": {
      "text/latex": [
       "$\\displaystyle \\frac{0.5 P_{2} b_{12} + 0.5 a_{1}}{b_{11}}$"
      ],
      "text/plain": [
       "(0.5*P2*b_12 + 0.5*a1)/b_11"
      ]
     },
     "metadata": {},
     "output_type": "display_data"
    },
    {
     "data": {
      "text/latex": [
       "$\\displaystyle \\frac{2 P_{2} b_{21} - a_{2}}{b_{22}}$"
      ],
      "text/plain": [
       "(2*P2*b_21 - a2)/b_22"
      ]
     },
     "metadata": {},
     "output_type": "display_data"
    }
   ],
   "source": [
    "R1=solve(foc1,P1)\n",
    "R2=solve(foc2,P1)\n",
    "\n",
    "R1=lambdify(\n",
    "    (P2, a1, b_11, b_12), \n",
    "    R1[0]\n",
    ")\n",
    "\n",
    "R2=lambdify(\n",
    "    (P2, a2, b_21, b_22), \n",
    "    R2[0]\n",
    ")\n",
    "\n",
    "display(R1(P2, a1, b_11, b_12))\n",
    "display(R2(P2, a2, b_21, b_22))"
   ]
  },
  {
   "cell_type": "markdown",
   "id": "6507e602-1b3b-4d4d-98a3-21994614efec",
   "metadata": {},
   "source": [
    "Plotter"
   ]
  },
  {
   "cell_type": "markdown",
   "id": "9ca3c12e-6b99-48c4-9b7b-30ffda35a7b5",
   "metadata": {},
   "source": [
    "Definerer parametrene i modellen"
   ]
  },
  {
   "cell_type": "code",
   "execution_count": 25,
   "id": "d4e4d2be-491a-418f-bb0e-016aad34afc3",
   "metadata": {},
   "outputs": [],
   "source": [
    "p = np.linspace(0,90,100)\n",
    "\n",
    "a1_value=400\n",
    "b_11_value=4\n",
    "b_12_value=2\n",
    "\n",
    "a2_value=240\n",
    "b_21_value=3\n",
    "b_22_value=1.5"
   ]
  },
  {
   "cell_type": "markdown",
   "id": "c2600a53-20c1-43f1-b244-9ecbedee331b",
   "metadata": {},
   "source": [
    "Plotter:"
   ]
  },
  {
   "cell_type": "code",
   "execution_count": 26,
   "id": "44931035-cada-4f6d-adda-643e08935da9",
   "metadata": {
    "tags": []
   },
   "outputs": [
    {
     "name": "stdout",
     "output_type": "stream",
     "text": [
      "Løsningen er følgende: \n",
      "Bedrift 1 produserer 256.0 til pris 64.0\n",
      "Bedrift 2 produserer 168.0 til pris 56.0\n",
      "\n",
      "Bedrift 1 tjener 16384.0\n",
      "Bedrift 2 tjener 9408.0\n"
     ]
    },
    {
     "data": {
      "image/png": "[encoded data removed]",
      "text/plain": [
       "<Figure size 432x288 with 1 Axes>"
      ]
     },
     "metadata": {
      "needs_background": "light"
     },
     "output_type": "display_data"
    }
   ],
   "source": [
    "\n",
    "\n",
    "fig,ax=plt.subplots()\n",
    "ax.set_ylabel('Kvantum bedrift 1 Q1')\n",
    "ax.set_xlabel('Kvantum bedrift 2 Q2')\n",
    "\n",
    "\n",
    "#drawing respons curves\n",
    "ax.plot(p,\n",
    "        R1(p, a1_value, b_11_value, b_12_value),\n",
    "        label='Responskurve bedrift 1'\n",
    "       )\n",
    "\n",
    "ax.plot(p,\n",
    "        R2(p, a2_value, b_21_value, b_22_value),\n",
    "        label='Responskurve bedrift 2'\n",
    "       )\n",
    "\n",
    "#setting range for y-axis. \n",
    "plt.ylim((0,90))\n",
    "\n",
    "#adding legend:\n",
    "ax.legend(loc='lower left',frameon=False)\n",
    "\n",
    "P1sol, P2sol=bertrand(a1_value, a2_value, b_11_value, b_12_value, b_21_value, b_22_value)\n",
    "\n",
    "print(f\"\"\"Løsningen er følgende: \n",
    "Bedrift 1 produserer {Q_demand(P1sol, P2sol, a1_value,b_11_value, b_12_value)} til pris {P1sol}\n",
    "Bedrift 2 produserer {Q_demand(P2sol, P1sol, a2_value,b_21_value, b_22_value)} til pris {P2sol}\n",
    "\n",
    "Bedrift 1 tjener {profit(P1sol, P2sol, a1_value,b_11_value, b_12_value)}\n",
    "Bedrift 2 tjener {profit(P2sol, P1sol, a2_value,b_21_value, b_22_value)}\"\"\")"
   ]
  },
  {
   "cell_type": "code",
   "execution_count": null,
   "id": "dfe6cfec-93ff-4138-8bef-17fb15f6eede",
   "metadata": {},
   "outputs": [],
   "source": []
  },
  {
   "cell_type": "code",
   "execution_count": null,
   "id": "65e65493-7968-4254-8a0b-d91b712dd813",
   "metadata": {},
   "outputs": [],
   "source": []
  }
 ],
 "metadata": {
  "kernelspec": {
   "display_name": "Python 3 (ipykernel)",
   "language": "python",
   "name": "python3"
  },
  "language_info": {
   "codemirror_mode": {
    "name": "ipython",
    "version": 3
   },
   "file_extension": ".py",
   "mimetype": "text/x-python",
   "name": "python",
   "nbconvert_exporter": "python",
   "pygments_lexer": "ipython3",
   "version": "3.8.10"
  }
 },
 "nbformat": 4,
 "nbformat_minor": 5
}
