{
 "cells": [
  {
   "cell_type": "markdown",
   "id": "e09562f3-4102-4a40-b6ea-7ddacedf4533",
   "metadata": {},
   "source": [
    "# Utledning av Stackelberg med python og sympy"
   ]
  },
  {
   "cell_type": "markdown",
   "id": "201f81da-129a-4c4e-9cc2-342abf03d727",
   "metadata": {},
   "source": [
    "Laster nødvendige pakker:"
   ]
  },
  {
   "cell_type": "code",
   "execution_count": 3,
   "id": "ce81742d-963f-4c3b-9c82-60b44b06e716",
   "metadata": {},
   "outputs": [],
   "source": [
    "from sympy import *\n",
    "from matplotlib import pyplot as plt\n",
    "import numpy as np"
   ]
  },
  {
   "cell_type": "code",
   "execution_count": 4,
   "id": "6ae4bc48-f832-48fd-a432-2a01e1207662",
   "metadata": {},
   "outputs": [],
   "source": [
    "Q, Q1, Q2, mc, mc1,mc2, a, b, pi=symbols('Q Q1 Q2 mc mc1 mc2 a b pi')\n",
    "\n",
    "def P_demand(Q,a,b):\n",
    "    return a-b*Q\n",
    "\n",
    "def profit(Q1,Q2,mc,a,b):\n",
    "    return (P_demand(Q1+Q2,a,b)-mc)*Q1"
   ]
  },
  {
   "cell_type": "markdown",
   "id": "58a3ec84-e3b1-4330-8ef8-cd9b3c54b0c0",
   "metadata": {},
   "source": [
    "### Marginalinntekt\n",
    "\n",
    "Legg merke til at vi her kun utleder bedrift 2 sin optimale reaksjon. Dette er bedriften som følger etter, og bedrift 1 kan ta hensyn til denne i sin optimalisering."
   ]
  },
  {
   "cell_type": "code",
   "execution_count": 5,
   "id": "8ba7a182-9abc-4a4c-b573-0ff6cd1237c4",
   "metadata": {},
   "outputs": [
    {
     "data": {
      "text/latex": [
       "$\\displaystyle - Q_{2} b + a - b \\left(Q_{1} + Q_{2}\\right) - mc_{2}$"
      ],
      "text/plain": [
       "-Q2*b + a - b*(Q1 + Q2) - mc2"
      ]
     },
     "execution_count": 5,
     "metadata": {},
     "output_type": "execute_result"
    }
   ],
   "source": [
    "def d_profit2_Q(Q2,Q1,mc2,a,b):\n",
    "    return diff(profit(Q2,Q1,mc2,a,b),Q2)\n",
    "d_profit2_Q(Q2,Q1,mc2,a,b)"
   ]
  },
  {
   "cell_type": "markdown",
   "id": "fe893be2-cd68-4188-aac0-f806f9690e44",
   "metadata": {},
   "source": [
    "### Responsfunksjon bedrift 2:\n",
    "\n",
    "Setter vi denne lik null får vi førsteordensbetingelsen. Løser for det for å finne responsfunksjonen til bedrift 2:"
   ]
  },
  {
   "cell_type": "code",
   "execution_count": 6,
   "id": "ade6a4f5-8535-4d26-924d-a2ce33f2ab15",
   "metadata": {
    "tags": []
   },
   "outputs": [
    {
     "data": {
      "text/latex": [
       "$\\displaystyle \\frac{- Q_{1} b + a - mc_{2}}{2 b}$"
      ],
      "text/plain": [
       "(-Q1*b + a - mc2)/(2*b)"
      ]
     },
     "execution_count": 6,
     "metadata": {},
     "output_type": "execute_result"
    }
   ],
   "source": [
    "def response2(Q1,mc2,a,b):\n",
    "    return solve(d_profit2_Q(Q2,Q1,mc2,a,b),Q2)[0]\n",
    "response2(Q1,mc2,a,b)"
   ]
  },
  {
   "cell_type": "markdown",
   "id": "4e57fffb-4f1b-446a-8751-4091b86c8a74",
   "metadata": {},
   "source": [
    "### Optimal mengde bedrift 1\n",
    "\n",
    "Over har vi nå kvantumet som 2 vil velge. Vi kan nå sette dette inn i profittfunksjonen til 1, og derivere:"
   ]
  },
  {
   "cell_type": "code",
   "execution_count": 7,
   "id": "4e0f36cc-af86-411c-bc05-0392d1f5c238",
   "metadata": {
    "tags": []
   },
   "outputs": [
    {
     "data": {
      "text/latex": [
       "$\\displaystyle - \\frac{Q_{1} b}{2} + a - b \\left(Q_{1} + \\frac{- Q_{1} b + a - mc_{2}}{2 b}\\right) - mc_{1}$"
      ],
      "text/plain": [
       "-Q1*b/2 + a - b*(Q1 + (-Q1*b + a - mc2)/(2*b)) - mc1"
      ]
     },
     "execution_count": 7,
     "metadata": {},
     "output_type": "execute_result"
    }
   ],
   "source": [
    "def d_profit1_Q(Q1,a,b,mc1,mc2):\n",
    "    return diff(profit(Q1,response2(Q1,mc2,a,b),mc1,a,b),Q1)\n",
    "d_profit1_Q(Q1,a,b,mc1,mc2)"
   ]
  },
  {
   "cell_type": "markdown",
   "id": "4949590f-ef47-47fc-b770-8c2ed111fef6",
   "metadata": {},
   "source": [
    "Løser for å finne optimalt mengde for bedrift 1:"
   ]
  },
  {
   "cell_type": "code",
   "execution_count": 8,
   "id": "136c87e6-b76f-40ab-bdce-4ef86ab130ab",
   "metadata": {},
   "outputs": [
    {
     "data": {
      "text/latex": [
       "$\\displaystyle \\frac{a - 2 mc_{1} + mc_{2}}{2 b}$"
      ],
      "text/plain": [
       "(a - 2*mc1 + mc2)/(2*b)"
      ]
     },
     "execution_count": 8,
     "metadata": {},
     "output_type": "execute_result"
    }
   ],
   "source": [
    "def Q1_sol(a,b,mc1,mc2):\n",
    "    return solve(d_profit1_Q(Q1,a,b,mc1,mc2),Q1)[0]\n",
    "Q1_sol(a,b,mc1,mc2)"
   ]
  },
  {
   "cell_type": "markdown",
   "id": "fac963c3-aed1-4ee7-b13c-dbbb619747d6",
   "metadata": {},
   "source": [
    "### Løsning mengde bedrift 2:\n",
    "\n",
    "Setter inn i tilbudet til 2:"
   ]
  },
  {
   "cell_type": "code",
   "execution_count": 9,
   "id": "8f4dbcff-cb79-4199-91b9-758960354bef",
   "metadata": {},
   "outputs": [
    {
     "data": {
      "text/latex": [
       "$\\displaystyle \\frac{\\frac{a}{2} + mc_{1} - \\frac{3 mc_{2}}{2}}{2 b}$"
      ],
      "text/plain": [
       "(a/2 + mc1 - 3*mc2/2)/(2*b)"
      ]
     },
     "execution_count": 9,
     "metadata": {},
     "output_type": "execute_result"
    }
   ],
   "source": [
    "def Q2_sol(a,b,mc1,mc2):\n",
    "    return response2(Q1,mc2,a,b).subs({Q1: Q1_sol(a,b,mc1,mc2)})\n",
    "Q2_sol(a,b,mc1,mc2)"
   ]
  },
  {
   "cell_type": "markdown",
   "id": "00e3f88b-efd2-4f4a-9d37-26cab38ce0f5",
   "metadata": {},
   "source": [
    "### Løsningsfunksjon:\n",
    "\n",
    "Legger de to løsningene inn i en funksjon vi kaller `stackelberg`"
   ]
  },
  {
   "cell_type": "code",
   "execution_count": 11,
   "id": "6eddc67f-a574-488f-af3f-85a7b3a7e2d6",
   "metadata": {
    "tags": []
   },
   "outputs": [
    {
     "data": {
      "text/plain": [
       "((a - 2*mc1 + mc2)/(2*b), (a/2 + mc1 - 3*mc2/2)/(2*b))"
      ]
     },
     "execution_count": 11,
     "metadata": {},
     "output_type": "execute_result"
    }
   ],
   "source": [
    "def stackelberg(a,b,mc1,mc2):\n",
    "    return  (Q1_sol(a,b,mc1,mc2),Q2_sol(a,b,mc1,mc2))\n",
    "stackelberg(a,b,mc1,mc2)"
   ]
  },
  {
   "cell_type": "markdown",
   "id": "74123925-bc58-49fa-816f-5fa5d8c02585",
   "metadata": {},
   "source": [
    "# Grafisk fremstilling:\n",
    "\n",
    "### Isokvanten:\n",
    "\n",
    "For å fremstille løsningen grafisk, trenger vi isokvanten til bedrift 1. Bedrift 1 ønsker å velge isokvanten med høyest profitt, som også er på bedrift 1 sin responskurve. Gitt et profittnivå pi1, er isokvanten alle kombinasjoner av Q1 og Q2 som gir denne profitten:"
   ]
  },
  {
   "cell_type": "code",
   "execution_count": 15,
   "id": "dc5efe76-22ba-41b4-9ee8-b7f483a4768f",
   "metadata": {},
   "outputs": [
    {
     "data": {
      "text/latex": [
       "$\\displaystyle - Q_{1} + \\frac{a}{b} - \\frac{mc_{1}}{b} - \\frac{\\pi}{Q_{1} b}$"
      ],
      "text/plain": [
       "-Q1 + a/b - mc1/b - pi/(Q1*b)"
      ]
     },
     "execution_count": 15,
     "metadata": {},
     "output_type": "execute_result"
    }
   ],
   "source": [
    "\n",
    "def isoquant1(Q1,a,b,mc1,pi1):\n",
    "    Q2_sol = solve(profit(Q1,Q2,mc1,a,b)-pi1,Q2)\n",
    "    #checks if there is a solution:\n",
    "    if len(Q2_sol):\n",
    "        try:#will raise exeption if symbolic\n",
    "            if float(Q2_sol[0])>0:\n",
    "                return float(Q2_sol[0])\n",
    "            else:\n",
    "                return None\n",
    "        except:\n",
    "            return Q2_sol[0]\n",
    "\n",
    "\n",
    "isoquant1(Q1,a,b,mc1,pi)"
   ]
  },
  {
   "cell_type": "markdown",
   "id": "6507e602-1b3b-4d4d-98a3-21994614efec",
   "metadata": {},
   "source": [
    "### Figur:"
   ]
  },
  {
   "cell_type": "markdown",
   "id": "9ca3c12e-6b99-48c4-9b7b-30ffda35a7b5",
   "metadata": {},
   "source": [
    "Definerer parametrene i modellen"
   ]
  },
  {
   "cell_type": "code",
   "execution_count": 16,
   "id": "d4e4d2be-491a-418f-bb0e-016aad34afc3",
   "metadata": {},
   "outputs": [],
   "source": [
    "q1 = np.linspace(0,30,100)\n",
    "q2 = np.linspace(0,12,100)\n",
    "a_value=40\n",
    "b_value=1\n",
    "mc1_value=5\n",
    "mc2_value=10"
   ]
  },
  {
   "cell_type": "markdown",
   "id": "c2600a53-20c1-43f1-b244-9ecbedee331b",
   "metadata": {},
   "source": [
    "Lager figur:"
   ]
  },
  {
   "cell_type": "code",
   "execution_count": 17,
   "id": "44931035-cada-4f6d-adda-643e08935da9",
   "metadata": {
    "tags": []
   },
   "outputs": [
    {
     "name": "stdout",
     "output_type": "stream",
     "text": [
      "Løsningen er at \n",
      "bedrift 1 produserer 20 og tjener 200\n",
      "bedrift 2 produserer 5 og tjener 25\n",
      "prisen blir 15\n",
      "\n",
      "\n",
      "\n"
     ]
    },
    {
     "data": {
      "image/png": "[encoded data removed]",
      "text/plain": [
       "<Figure size 432x288 with 1 Axes>"
      ]
     },
     "metadata": {
      "needs_background": "light"
     },
     "output_type": "display_data"
    }
   ],
   "source": [
    "\n",
    "\n",
    "fig,ax=plt.subplots()\n",
    "ax.set_ylabel('Kvantum bedrift 1 Q1')\n",
    "ax.set_xlabel('Kvantum bedrift 2 Q2')\n",
    "\n",
    "\n",
    "#drawing respons curves\n",
    "pi_val=150\n",
    "\n",
    "ax.plot([isoquant1(i,a_value,b_value,mc1_value,pi_val) for i in q1],\n",
    "        q1,\n",
    "        label=f'Isokvant profitt {pi_val}', \n",
    "        color = 'tab:blue'\n",
    "       )\n",
    "\n",
    "pi_val=200\n",
    "ax.plot([isoquant1(i,a_value,b_value,mc1_value,pi_val) for i in q1],\n",
    "        q1,\n",
    "        label=f'Isokvant profitt {pi_val}', \n",
    "        color = 'tab:red'\n",
    "       )\n",
    "ax.plot(\n",
    "        [response2(i,mc2_value, a_value,b_value) for i in q1],\n",
    "        q1,\n",
    "        label='Responskurve bedrift 2',\n",
    "        color = 'tab:green'\n",
    "       )\n",
    "\n",
    "#setting range for y-axis. \n",
    "plt.ylim((0,30))\n",
    "\n",
    "#adding legend:\n",
    "ax.legend(loc='upper right',frameon=False)\n",
    "\n",
    "Q1sol, Q2sol=stackelberg(a_value,b_value,mc1_value,mc2_value)\n",
    "\n",
    "print(f\"\"\"Løsningen er at \n",
    "bedrift 1 produserer {Q1sol} og tjener {profit(Q1sol,Q2sol,mc1_value,a_value,b_value)}\n",
    "bedrift 2 produserer {Q2sol} og tjener {profit(Q2sol,Q1sol,mc2_value,a_value,b_value)}\n",
    "prisen blir {P_demand(Q1sol+Q2sol,a_value,b_value)}\n",
    "\n",
    "\n",
    "\"\"\")"
   ]
  },
  {
   "cell_type": "markdown",
   "id": "8f4c807f-861d-4521-a7da-6c89a0326189",
   "metadata": {},
   "source": [
    "## Løsning:"
   ]
  },
  {
   "cell_type": "code",
   "execution_count": 18,
   "id": "dfe6cfec-93ff-4138-8bef-17fb15f6eede",
   "metadata": {},
   "outputs": [
    {
     "name": "stdout",
     "output_type": "stream",
     "text": [
      "Løsningen er at \n",
      "bedrift 1 produserer 20 og tjener 200\n",
      "bedrift 2 produserer 5 og tjener 25\n",
      "prisen blir 15\n",
      "\n"
     ]
    }
   ],
   "source": [
    "Q1sol, Q2sol=stackelberg(a_value,b_value,mc1_value,mc2_value) \n",
    "print(f\"\"\"Løsningen er at \n",
    "bedrift 1 produserer {Q1sol} og tjener {profit(Q1sol,Q2sol,mc1_value,a_value,b_value)}\n",
    "bedrift 2 produserer {Q2sol} og tjener {profit(Q2sol,Q1sol,mc2_value,a_value,b_value)}\n",
    "prisen blir {P_demand(Q1sol+Q2sol,a_value,b_value)}\n",
    "\"\"\")"
   ]
  }
 ],
 "metadata": {
  "kernelspec": {
   "display_name": "Python 3 (ipykernel)",
   "language": "python",
   "name": "python3"
  },
  "language_info": {
   "codemirror_mode": {
    "name": "ipython",
    "version": 3
   },
   "file_extension": ".py",
   "mimetype": "text/x-python",
   "name": "python",
   "nbconvert_exporter": "python",
   "pygments_lexer": "ipython3",
   "version": "3.8.10"
  }
 },
 "nbformat": 4,
 "nbformat_minor": 5
}
