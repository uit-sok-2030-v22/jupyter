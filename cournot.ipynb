{
 "cells": [
  {
   "cell_type": "code",
   "execution_count": 1,
   "id": "ce81742d-963f-4c3b-9c82-60b44b06e716",
   "metadata": {},
   "outputs": [],
   "source": [
    "from sympy import *\n",
    "from matplotlib import pyplot as plt\n",
    "import numpy as np"
   ]
  },
  {
   "cell_type": "code",
   "execution_count": 5,
   "id": "6ae4bc48-f832-48fd-a432-2a01e1207662",
   "metadata": {},
   "outputs": [],
   "source": [
    "Q1, Q2,mc1,mc2, a, b=symbols('Q1 Q2 mc1 mc2 a b')\n",
    "\n",
    "def P_demand(Q,a,b):\n",
    "    return a-b*Q\n",
    "\n",
    "def profit(Q1,Q2,mc,a,b):\n",
    "    return (P_demand(Q1+Q2,a,b)-mc)*Q1"
   ]
  },
  {
   "cell_type": "markdown",
   "id": "58a3ec84-e3b1-4330-8ef8-cd9b3c54b0c0",
   "metadata": {},
   "source": [
    "Marginalinntekt:"
   ]
  },
  {
   "cell_type": "code",
   "execution_count": 6,
   "id": "8ba7a182-9abc-4a4c-b573-0ff6cd1237c4",
   "metadata": {},
   "outputs": [
    {
     "data": {
      "text/latex": [
       "$\\displaystyle - Q_{1} b + a - b \\left(Q_{1} + Q_{2}\\right) - mc_{1}$"
      ],
      "text/plain": [
       "-Q1*b + a - b*(Q1 + Q2) - mc1"
      ]
     },
     "metadata": {},
     "output_type": "display_data"
    },
    {
     "data": {
      "text/latex": [
       "$\\displaystyle - Q_{2} b + a - b \\left(Q_{1} + Q_{2}\\right) - mc_{2}$"
      ],
      "text/plain": [
       "-Q2*b + a - b*(Q1 + Q2) - mc2"
      ]
     },
     "metadata": {},
     "output_type": "display_data"
    }
   ],
   "source": [
    "d_profit1_Q=diff(profit(Q1,Q2,mc1,a,b),Q1)\n",
    "d_profit2_Q=diff(profit(Q2,Q1,mc2,a,b),Q2)\n",
    "\n",
    "display(d_profit1_Q)\n",
    "display(d_profit2_Q)"
   ]
  },
  {
   "cell_type": "markdown",
   "id": "fe893be2-cd68-4188-aac0-f806f9690e44",
   "metadata": {},
   "source": [
    "Førsteordensbetingelse:"
   ]
  },
  {
   "cell_type": "code",
   "execution_count": 7,
   "id": "ade6a4f5-8535-4d26-924d-a2ce33f2ab15",
   "metadata": {
    "tags": []
   },
   "outputs": [
    {
     "data": {
      "text/latex": [
       "$\\displaystyle - Q_{1} b + a - b \\left(Q_{1} + Q_{2}\\right) - mc_{1} = 0$"
      ],
      "text/plain": [
       "Eq(-Q1*b + a - b*(Q1 + Q2) - mc1, 0)"
      ]
     },
     "metadata": {},
     "output_type": "display_data"
    },
    {
     "data": {
      "text/latex": [
       "$\\displaystyle - Q_{2} b + a - b \\left(Q_{1} + Q_{2}\\right) - mc_{2} = 0$"
      ],
      "text/plain": [
       "Eq(-Q2*b + a - b*(Q1 + Q2) - mc2, 0)"
      ]
     },
     "metadata": {},
     "output_type": "display_data"
    }
   ],
   "source": [
    "foc1=Eq(d_profit1_Q,0)\n",
    "foc2=Eq(d_profit2_Q,0)\n",
    "\n",
    "display(foc1)\n",
    "display(foc2)"
   ]
  },
  {
   "cell_type": "markdown",
   "id": "4e57fffb-4f1b-446a-8751-4091b86c8a74",
   "metadata": {},
   "source": [
    "Løser:"
   ]
  },
  {
   "cell_type": "code",
   "execution_count": 13,
   "id": "4e0f36cc-af86-411c-bc05-0392d1f5c238",
   "metadata": {
    "tags": []
   },
   "outputs": [
    {
     "data": {
      "text/latex": [
       "$\\displaystyle \\frac{a - 2 mc_{1} + mc_{2}}{3 b}$"
      ],
      "text/plain": [
       "(a - 2*mc1 + mc2)/(3*b)"
      ]
     },
     "metadata": {},
     "output_type": "display_data"
    },
    {
     "data": {
      "text/latex": [
       "$\\displaystyle \\frac{a + mc_{1} - 2 mc_{2}}{3 b}$"
      ],
      "text/plain": [
       "(a + mc1 - 2*mc2)/(3*b)"
      ]
     },
     "metadata": {},
     "output_type": "display_data"
    }
   ],
   "source": [
    "sol=solve([foc1,foc2],[Q1,Q2])\n",
    "\n",
    "display(sol[Q1])\n",
    "display(sol[Q2])"
   ]
  },
  {
   "cell_type": "markdown",
   "id": "4949590f-ef47-47fc-b770-8c2ed111fef6",
   "metadata": {},
   "source": [
    "Løsningsfunksjon:"
   ]
  },
  {
   "cell_type": "code",
   "execution_count": 71,
   "id": "6eddc67f-a574-488f-af3f-85a7b3a7e2d6",
   "metadata": {
    "tags": []
   },
   "outputs": [],
   "source": [
    "cournot=lambdify(\n",
    "    (a,b,mc1,mc2), \n",
    "    (sol[Q1],sol[Q2])\n",
    ")"
   ]
  },
  {
   "cell_type": "markdown",
   "id": "79b0ac07-ecd2-41ed-ad84-782df322ba06",
   "metadata": {
    "tags": []
   },
   "source": [
    "Responskurver:"
   ]
  },
  {
   "cell_type": "code",
   "execution_count": 82,
   "id": "7f305bcc-45d9-4ce7-99ea-157fefa75e68",
   "metadata": {},
   "outputs": [
    {
     "data": {
      "text/latex": [
       "$\\displaystyle \\frac{- 0.5 Q_{1} b + 0.5 a - 0.5 mc_{1}}{b}$"
      ],
      "text/plain": [
       "(-0.5*Q1*b + 0.5*a - 0.5*mc1)/b"
      ]
     },
     "metadata": {},
     "output_type": "display_data"
    },
    {
     "data": {
      "text/latex": [
       "$\\displaystyle \\frac{- 2 Q_{1} b + a - mc_{1}}{b}$"
      ],
      "text/plain": [
       "(-2*Q1*b + a - mc1)/b"
      ]
     },
     "metadata": {},
     "output_type": "display_data"
    }
   ],
   "source": [
    "R1=solve(foc1,Q1)\n",
    "R2=solve(foc2,Q1)\n",
    "\n",
    "R1=lambdify(\n",
    "    (Q2,a,b,mc1), \n",
    "    R1[0]\n",
    ")\n",
    "\n",
    "R2=lambdify(\n",
    "    (Q2,a,b,mc2), \n",
    "    R2[0]\n",
    ")\n",
    "\n",
    "display(R1(Q1,a,b,mc1))\n",
    "display(R2(Q1,a,b,mc1))"
   ]
  },
  {
   "cell_type": "markdown",
   "id": "6507e602-1b3b-4d4d-98a3-21994614efec",
   "metadata": {},
   "source": [
    "Plotter"
   ]
  },
  {
   "cell_type": "markdown",
   "id": "9ca3c12e-6b99-48c4-9b7b-30ffda35a7b5",
   "metadata": {},
   "source": [
    "Definerer parametrene i modellen"
   ]
  },
  {
   "cell_type": "code",
   "execution_count": 76,
   "id": "d4e4d2be-491a-418f-bb0e-016aad34afc3",
   "metadata": {},
   "outputs": [],
   "source": [
    "q = np.linspace(1,600,100)\n",
    "a_verdi=2000\n",
    "b_verdi=4\n",
    "mc1_verdi=500\n",
    "mc2_verdi=25"
   ]
  },
  {
   "cell_type": "markdown",
   "id": "c2600a53-20c1-43f1-b244-9ecbedee331b",
   "metadata": {},
   "source": [
    "Plotter:"
   ]
  },
  {
   "cell_type": "code",
   "execution_count": 81,
   "id": "44931035-cada-4f6d-adda-643e08935da9",
   "metadata": {
    "tags": []
   },
   "outputs": [
    {
     "name": "stdout",
     "output_type": "stream",
     "text": [
      "Løsningen er at \n",
      "bedrift 1 produserer 85.41666666666666 og \n",
      "bedrift 2 produserer 85.41666666666666 \n",
      "prisen blir 841.6666666666667\n"
     ]
    },
    {
     "data": {
      "image/png": "[encoded data removed]",
      "text/plain": [
       "<Figure size 432x288 with 1 Axes>"
      ]
     },
     "metadata": {
      "needs_background": "light"
     },
     "output_type": "display_data"
    }
   ],
   "source": [
    "\n",
    "\n",
    "fig,ax=plt.subplots()\n",
    "ax.set_ylabel('Kvantum bedrift 1 Q1')\n",
    "ax.set_xlabel('Kvantum bedrift 2 Q2')\n",
    "\n",
    "\n",
    "#drawing respons curves\n",
    "ax.plot(q,\n",
    "        R1(q,a_verdi,b_verdi,mc1_verdi),\n",
    "        label='Responskurve bedrift 1'\n",
    "       )\n",
    "\n",
    "ax.plot(q,\n",
    "        R2(q,a_verdi,b_verdi,mc2_verdi),\n",
    "        label='Responskurve bedrift 2'\n",
    "       )\n",
    "\n",
    "#setting range for y-axis. \n",
    "plt.ylim((0,500))\n",
    "\n",
    "#adding legend:\n",
    "ax.legend(loc='upper right',frameon=False)\n",
    "\n",
    "Q1sol, Q2sol=cournot(a_verdi,b_verdi,mc1_verdi,mc2_verdi)\n",
    "\n",
    "print(f\"\"\"Løsningen er at \n",
    "bedrift 1 produserer {Q1sol} og \n",
    "bedrift 2 produserer {Q1sol} \n",
    "prisen blir {P_demand(Q1sol+Q2sol,a_verdi,b_verdi)}\"\"\")"
   ]
  },
  {
   "cell_type": "code",
   "execution_count": null,
   "id": "dfe6cfec-93ff-4138-8bef-17fb15f6eede",
   "metadata": {},
   "outputs": [],
   "source": []
  }
 ],
 "metadata": {
  "kernelspec": {
   "display_name": "Python 3 (ipykernel)",
   "language": "python",
   "name": "python3"
  },
  "language_info": {
   "codemirror_mode": {
    "name": "ipython",
    "version": 3
   },
   "file_extension": ".py",
   "mimetype": "text/x-python",
   "name": "python",
   "nbconvert_exporter": "python",
   "pygments_lexer": "ipython3",
   "version": "3.8.10"
  }
 },
 "nbformat": 4,
 "nbformat_minor": 5
}
