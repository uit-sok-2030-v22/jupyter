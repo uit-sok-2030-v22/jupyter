{
 "cells": [
  {
   "cell_type": "markdown",
   "id": "e09562f3-4102-4a40-b6ea-7ddacedf4533",
   "metadata": {},
   "source": [
    "# Utledning av Cournot med python og sympy"
   ]
  },
  {
   "cell_type": "markdown",
   "id": "bb1c5feb-bd8a-46fd-9bcd-b3b74e9acbf9",
   "metadata": {},
   "source": [
    "Cournot-konkurranse vil si at to bedrifter konkurerer ved å fastsette hvor mye de skal produsere. Prisen er gitt ved etterspørselsfunksjonen.\n",
    "\n",
    "Når bedriftene skal sette kvantum, må de ta hensyn til at eget kvantum endrer på prisen i det felles markedet. Dette kan tas hensyn til ved å definere pris i profittfunksjonen som en funksjon av totalt kvantum"
   ]
  },
  {
   "cell_type": "markdown",
   "id": "201f81da-129a-4c4e-9cc2-342abf03d727",
   "metadata": {},
   "source": [
    "Vi starter med å laste nødvendige pakker"
   ]
  },
  {
   "cell_type": "code",
   "execution_count": 2,
   "id": "ce81742d-963f-4c3b-9c82-60b44b06e716",
   "metadata": {},
   "outputs": [],
   "source": [
    "from sympy import *\n",
    "from matplotlib import pyplot as plt\n",
    "import numpy as np"
   ]
  },
  {
   "cell_type": "markdown",
   "id": "755da6ed-54a3-4ecf-8d03-f8aeb635d57c",
   "metadata": {},
   "source": [
    "Vi definerer så symbolene vi trenger. I Cournotkonkurranse fastsettes kvantum for bedrift 1 og 2, $Q_1$ og $Q_1$. Hver bedrift har marginalkostnader $mc_1$ og $mc_2$. Etterspørselsfunksjonen har et konstantledd $a$ og negativt stignignstall med absoluttverdi $b$. Vi definerer derfor følgende variabler for modellen:"
   ]
  },
  {
   "cell_type": "code",
   "execution_count": 12,
   "id": "6cf7c4ef-8826-40c4-8265-cd07a430621c",
   "metadata": {},
   "outputs": [],
   "source": [
    "Q1, Q2,mc1,mc2, a, b=symbols('Q1 Q2 mc1 mc2 a b')"
   ]
  },
  {
   "cell_type": "markdown",
   "id": "b20083fb-8dd9-4788-ba9a-108b8c6048fe",
   "metadata": {},
   "source": [
    "Vi kan nå definere de to funksjonene vi skal bruke. Etterspørselsfunksjonen kan skrives som pris som funksjon av kvantum eller kvantum som funksjon av pris. I dette tilfellet bruker vi en prisfunksjon, slik at vi kan legge det inn i profittfunksjonen. \n",
    "\n",
    "Profitten er differansen mellom pris og marginakostnad, multiplisert med kvantum til den gjeldende bedriften. Denne profittfunksjonen gjelder for bette bedrifter, en må bare bytte om på kvantum og bruke riktig markginakostnad. "
   ]
  },
  {
   "cell_type": "code",
   "execution_count": 4,
   "id": "ee4c82e4-9d7a-456c-8530-5292d7fd84db",
   "metadata": {},
   "outputs": [],
   "source": [
    "def P_demand(Q,a,b):\n",
    "    return a-b*Q\n",
    "\n",
    "def profit(Q1,Q2,mc,a,b):\n",
    "    return (P_demand(Q1+Q2,a,b)-mc)*Q1"
   ]
  },
  {
   "cell_type": "markdown",
   "id": "58a3ec84-e3b1-4330-8ef8-cd9b3c54b0c0",
   "metadata": {},
   "source": [
    "## Løsning\n",
    "Vi kan nå regne ut marginalinntekten som:"
   ]
  },
  {
   "cell_type": "code",
   "execution_count": 5,
   "id": "8ba7a182-9abc-4a4c-b573-0ff6cd1237c4",
   "metadata": {},
   "outputs": [
    {
     "data": {
      "text/latex": [
       "$\\displaystyle - Q_{1} b + a - b \\left(Q_{1} + Q_{2}\\right) - mc_{1}$"
      ],
      "text/plain": [
       "-Q1*b + a - b*(Q1 + Q2) - mc1"
      ]
     },
     "metadata": {},
     "output_type": "display_data"
    },
    {
     "data": {
      "text/latex": [
       "$\\displaystyle - Q_{2} b + a - b \\left(Q_{1} + Q_{2}\\right) - mc_{2}$"
      ],
      "text/plain": [
       "-Q2*b + a - b*(Q1 + Q2) - mc2"
      ]
     },
     "metadata": {},
     "output_type": "display_data"
    }
   ],
   "source": [
    "d_profit1_Q=diff(profit(Q1,Q2,mc1,a,b),Q1)\n",
    "d_profit2_Q=diff(profit(Q2,Q1,mc2,a,b),Q2)\n",
    "\n",
    "display(d_profit1_Q)\n",
    "display(d_profit2_Q)"
   ]
  },
  {
   "cell_type": "markdown",
   "id": "fe893be2-cd68-4188-aac0-f806f9690e44",
   "metadata": {},
   "source": [
    "Førsteordensbetingelsen er at marginalinntekten er null. Vi løser og finner hvilke  $Q_1$ og $Q_1$ dette gjelder for:"
   ]
  },
  {
   "cell_type": "code",
   "execution_count": 8,
   "id": "4e0f36cc-af86-411c-bc05-0392d1f5c238",
   "metadata": {
    "tags": []
   },
   "outputs": [
    {
     "data": {
      "text/latex": [
       "$\\displaystyle \\frac{a - 2 mc_{1} + mc_{2}}{3 b}$"
      ],
      "text/plain": [
       "(a - 2*mc1 + mc2)/(3*b)"
      ]
     },
     "metadata": {},
     "output_type": "display_data"
    },
    {
     "data": {
      "text/latex": [
       "$\\displaystyle \\frac{a + mc_{1} - 2 mc_{2}}{3 b}$"
      ],
      "text/plain": [
       "(a + mc1 - 2*mc2)/(3*b)"
      ]
     },
     "metadata": {},
     "output_type": "display_data"
    }
   ],
   "source": [
    "sol=solve([d_profit1_Q,d_profit2_Q],[Q1,Q2])\n",
    "\n",
    "display(sol[Q1])\n",
    "display(sol[Q2])"
   ]
  },
  {
   "cell_type": "markdown",
   "id": "4949590f-ef47-47fc-b770-8c2ed111fef6",
   "metadata": {},
   "source": [
    "Vi kan nå lage en funksjon som gir den nummeriske løsningen gitt nummeriske argumenter, for sympy-uttrykkene over. Vi bruker `lambdify`-funksjonen i `sympy` for å lage en slik funksjon:"
   ]
  },
  {
   "cell_type": "code",
   "execution_count": 13,
   "id": "6eddc67f-a574-488f-af3f-85a7b3a7e2d6",
   "metadata": {
    "tags": []
   },
   "outputs": [],
   "source": [
    "cournot=lambdify(\n",
    "    (a,b,mc1,mc2), \n",
    "    (sol[Q1],sol[Q2])\n",
    ")"
   ]
  },
  {
   "cell_type": "markdown",
   "id": "7f87cb70-8f06-49ae-b601-be2331f1dca9",
   "metadata": {},
   "source": [
    "For eksempel kan vi regne ut at for $a=40$, $b=2$, $mc_1=5$ og $mc_2=10$ er kvantumene  $Q_1$ og $Q_1$ henholdsvis"
   ]
  },
  {
   "cell_type": "code",
   "execution_count": 11,
   "id": "97210dcf-a66b-4612-b670-1b1acd5f1a99",
   "metadata": {},
   "outputs": [
    {
     "data": {
      "text/plain": [
       "(6.666666666666666, 4.166666666666666)"
      ]
     },
     "execution_count": 11,
     "metadata": {},
     "output_type": "execute_result"
    }
   ],
   "source": [
    "cournot(40,2,5,10)"
   ]
  },
  {
   "cell_type": "markdown",
   "id": "f8bcb7b4-70f4-4e98-bde4-3fdb2a009d4e",
   "metadata": {},
   "source": [
    "## Responskurver"
   ]
  },
  {
   "cell_type": "markdown",
   "id": "79b0ac07-ecd2-41ed-ad84-782df322ba06",
   "metadata": {
    "tags": []
   },
   "source": [
    "Responskruvene skal angi, i samme diagram, hvilke kvantum hver av bedriftene vil velge. For å få det i samme diagram, løser vi me hensyn til samme variabel, $Q_1$. Dermed blir $Q_1$ langs y-aksen mens $Q_2$ blir langs x-aksen. Vi bruker så `lamdyfy`-funksjonen fra `sympy` til å lage responsfunksjoner av `sympy`-uttrykk: "
   ]
  },
  {
   "cell_type": "code",
   "execution_count": 17,
   "id": "7f305bcc-45d9-4ce7-99ea-157fefa75e68",
   "metadata": {},
   "outputs": [
    {
     "data": {
      "text/latex": [
       "$\\displaystyle \\frac{- 0.5 Q_{1} b + 0.5 a - 0.5 mc_{1}}{b}$"
      ],
      "text/plain": [
       "(-0.5*Q1*b + 0.5*a - 0.5*mc1)/b"
      ]
     },
     "metadata": {},
     "output_type": "display_data"
    },
    {
     "data": {
      "text/latex": [
       "$\\displaystyle \\frac{- 2 Q_{1} b + a - mc_{1}}{b}$"
      ],
      "text/plain": [
       "(-2*Q1*b + a - mc1)/b"
      ]
     },
     "metadata": {},
     "output_type": "display_data"
    }
   ],
   "source": [
    "R1=solve(foc1,Q1)\n",
    "R2=solve(foc2,Q1)\n",
    "\n",
    "R1=lambdify(\n",
    "    (Q2,a,b,mc1), \n",
    "    R1[0]\n",
    ")\n",
    "\n",
    "R2=lambdify(\n",
    "    (Q2,a,b,mc2), \n",
    "    R2[0]\n",
    ")\n",
    "\n",
    "display(R1(Q1,a,b,mc1))\n",
    "display(R2(Q1,a,b,mc1))"
   ]
  },
  {
   "cell_type": "markdown",
   "id": "6507e602-1b3b-4d4d-98a3-21994614efec",
   "metadata": {},
   "source": [
    "## Anvendelse og figur"
   ]
  },
  {
   "cell_type": "markdown",
   "id": "9ca3c12e-6b99-48c4-9b7b-30ffda35a7b5",
   "metadata": {},
   "source": [
    "Vi kan nå anvende modellen på spesifikke parameter. Vi skal se på kvantum for bedrift 2 i intervallet 0 til 30, og ellers bruke følgende verdier på parameterne:"
   ]
  },
  {
   "cell_type": "code",
   "execution_count": 18,
   "id": "d4e4d2be-491a-418f-bb0e-016aad34afc3",
   "metadata": {},
   "outputs": [],
   "source": [
    "q = np.linspace(0,30,100)\n",
    "a_value=40\n",
    "b_value=1\n",
    "mc1_value=10\n",
    "mc2_value=10"
   ]
  },
  {
   "cell_type": "markdown",
   "id": "c2600a53-20c1-43f1-b244-9ecbedee331b",
   "metadata": {},
   "source": [
    "Vi plotter på vanlig måte, og tar med en utregning til slutt som viser de mest interessante verdiene:"
   ]
  },
  {
   "cell_type": "code",
   "execution_count": 21,
   "id": "44931035-cada-4f6d-adda-643e08935da9",
   "metadata": {
    "tags": []
   },
   "outputs": [
    {
     "name": "stdout",
     "output_type": "stream",
     "text": [
      "Løsningen er at \n",
      "bedrift 1 produserer 10.0 med profitt 100.0 og \n",
      "bedrift 2 produserer 10.0 med profitt 100.0\n",
      "prisen blir 20.0\n"
     ]
    },
    {
     "data": {
      "image/png": "[encoded data removed]",
      "text/plain": [
       "<Figure size 432x288 with 1 Axes>"
      ]
     },
     "metadata": {
      "needs_background": "light"
     },
     "output_type": "display_data"
    }
   ],
   "source": [
    "\n",
    "\n",
    "fig,ax=plt.subplots()\n",
    "ax.set_ylabel('Kvantum bedrift 1 Q1')\n",
    "ax.set_xlabel('Kvantum bedrift 2 Q2')\n",
    "\n",
    "\n",
    "#drawing respons curves\n",
    "ax.plot(q,\n",
    "        R1(q,a_value,b_value,mc1_value),\n",
    "        label='Responskurve bedrift 1'\n",
    "       )\n",
    "\n",
    "ax.plot(q,\n",
    "        R2(q,a_value,b_value,mc2_value),\n",
    "        label='Responskurve bedrift 2'\n",
    "       )\n",
    "\n",
    "#setting range for y-axis. \n",
    "plt.ylim((0,30))\n",
    "\n",
    "#adding legend:\n",
    "ax.legend(loc='upper right',frameon=False)\n",
    "\n",
    "Q1sol, Q2sol=cournot(a_value,b_value,mc1_value,mc2_value)\n",
    "\n",
    "print(f\"\"\"Løsningen er at \n",
    "bedrift 1 produserer {Q1sol} med profitt {profit(Q1sol,Q2sol,mc1_value,a_value,b_value)} og \n",
    "bedrift 2 produserer {Q2sol} med profitt {profit(Q2sol,Q1sol,mc2_value,a_value,b_value)}\n",
    "prisen blir {P_demand(Q1sol+Q2sol,a_value,b_value)}\"\"\")"
   ]
  },
  {
   "cell_type": "code",
   "execution_count": null,
   "id": "88857e30-0b4e-477d-b0bd-d68a02b1bd34",
   "metadata": {},
   "outputs": [],
   "source": []
  }
 ],
 "metadata": {
  "kernelspec": {
   "display_name": "Python 3 (ipykernel)",
   "language": "python",
   "name": "python3"
  },
  "language_info": {
   "codemirror_mode": {
    "name": "ipython",
    "version": 3
   },
   "file_extension": ".py",
   "mimetype": "text/x-python",
   "name": "python",
   "nbconvert_exporter": "python",
   "pygments_lexer": "ipython3",
   "version": "3.8.10"
  }
 },
 "nbformat": 4,
 "nbformat_minor": 5
}
